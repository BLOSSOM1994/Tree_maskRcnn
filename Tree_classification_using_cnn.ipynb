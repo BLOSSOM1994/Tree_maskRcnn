{
  "nbformat": 4,
  "nbformat_minor": 0,
  "metadata": {
    "kernelspec": {
      "display_name": "Python 3",
      "language": "python",
      "name": "python3"
    },
    "language_info": {
      "codemirror_mode": {
        "name": "ipython",
        "version": 3
      },
      "file_extension": ".py",
      "mimetype": "text/x-python",
      "name": "python",
      "nbconvert_exporter": "python",
      "pygments_lexer": "ipython3",
      "version": "3.6.6"
    },
    "colab": {
      "name": "cats-dogs-classification-using-cnn.ipynb",
      "provenance": [],
      "collapsed_sections": [],
      "include_colab_link": true
    }
  },
  "cells": [
    {
      "cell_type": "markdown",
      "metadata": {
        "id": "view-in-github",
        "colab_type": "text"
      },
      "source": [
        "<a href=\"https://colab.research.google.com/github/BLOSSOM1994/Tree_maskRcnn/blob/master/Tree_classification_using_cnn.ipynb\" target=\"_parent\"><img src=\"https://colab.research.google.com/assets/colab-badge.svg\" alt=\"Open In Colab\"/></a>"
      ]
    },
    {
      "cell_type": "markdown",
      "metadata": {
        "id": "REZb5xeDCvE3",
        "colab_type": "text"
      },
      "source": [
        "The Idea is to apply CNN to Cats&Dogs Image Classification dataset."
      ]
    },
    {
      "cell_type": "code",
      "metadata": {
        "id": "02M8n8QSCvE7",
        "colab_type": "code",
        "colab": {}
      },
      "source": [
        "# importing libraries\n",
        "import pandas as pd\n",
        "import numpy as np\n",
        "import matplotlib.pyplot as plt\n",
        "import tensorflow as tf\n",
        "import os\n",
        "from tensorflow.keras.preprocessing import image\n",
        "from zipfile import ZipFile "
      ],
      "execution_count": 35,
      "outputs": []
    },
    {
      "cell_type": "code",
      "metadata": {
        "id": "DDrmWMJdCvFO",
        "colab_type": "code",
        "colab": {}
      },
      "source": [
        "# importing libraries for Deep Learning\n",
        "from tensorflow.keras.models import Sequential\n",
        "from tensorflow.keras.layers import Conv2D, MaxPooling2D, Flatten, Dense, Dropout, Activation\n",
        "from tensorflow.keras.preprocessing.image import ImageDataGenerator"
      ],
      "execution_count": 36,
      "outputs": []
    },
    {
      "cell_type": "code",
      "metadata": {
        "id": "WCmXa2bjEAjY",
        "colab_type": "code",
        "colab": {
          "base_uri": "https://localhost:8080/",
          "height": 36
        },
        "outputId": "10e2e6d4-9e22-4c99-cc8b-02064558800c"
      },
      "source": [
        "from google.colab import drive\n",
        "drive.mount('/content/drive')"
      ],
      "execution_count": 37,
      "outputs": [
        {
          "output_type": "stream",
          "text": [
            "Drive already mounted at /content/drive; to attempt to forcibly remount, call drive.mount(\"/content/drive\", force_remount=True).\n"
          ],
          "name": "stdout"
        }
      ]
    },
    {
      "cell_type": "code",
      "metadata": {
        "_cell_guid": "79c7e3d0-c299-4dcb-8224-4455121ee9b0",
        "_uuid": "d629ff2d2480ee46fbb7e2d37f6b5fab8052498a",
        "id": "chAn0DlOCvFj",
        "colab_type": "code",
        "colab": {}
      },
      "source": [
        "#Split into train, validate and test data folders\n",
        "datadir='/content/drive/My Drive/Colab Notebooks'\n",
        "train_dir  = datadir+'/CNN_test/train'\n",
        "test_dir   = datadir+'/CNN_test/test'\n",
        "\n",
        "\n",
        "train_dir_tree = train_dir + '/tree'\n",
        "train_dir_any = train_dir + '/any'\n",
        "test_dir_tree = test_dir + '/tree'\n",
        "test_dir_any = test_dir + '/any'\n",
        "\n"
      ],
      "execution_count": 38,
      "outputs": []
    },
    {
      "cell_type": "code",
      "metadata": {
        "id": "fWLOvgmrCvFx",
        "colab_type": "code",
        "colab": {
          "base_uri": "https://localhost:8080/",
          "height": 91
        },
        "outputId": "df2d1afb-15e1-4018-e9b9-96f68d6546f0"
      },
      "source": [
        "print('number of tree training images - ',len(os.listdir(train_dir_tree)))\n",
        "print('number of any training images - ',len(os.listdir(train_dir_any)))\n",
        "print('number of tree testing images - ',len(os.listdir(test_dir_tree)))\n",
        "print('number of any testing images - ',len(os.listdir(test_dir_any)))"
      ],
      "execution_count": 39,
      "outputs": [
        {
          "output_type": "stream",
          "text": [
            "number of tree training images -  162\n",
            "number of any training images -  77\n",
            "number of tree testing images -  117\n",
            "number of any testing images -  56\n"
          ],
          "name": "stdout"
        }
      ]
    },
    {
      "cell_type": "markdown",
      "metadata": {
        "id": "cCRkjWvYCvF7",
        "colab_type": "text"
      },
      "source": [
        "Now we need to convert the RGB images into array of numbers. The requirement can be satisfied by ImageDataGenerator() https://keras.io/preprocessing/image/"
      ]
    },
    {
      "cell_type": "code",
      "metadata": {
        "id": "Ux0EgaaCCvF9",
        "colab_type": "code",
        "colab": {}
      },
      "source": [
        "data_generator = ImageDataGenerator(rescale = 1.0/255.0, zoom_range = 0.2)"
      ],
      "execution_count": 40,
      "outputs": []
    },
    {
      "cell_type": "code",
      "metadata": {
        "id": "o2Sd6bi_CvGI",
        "colab_type": "code",
        "colab": {
          "base_uri": "https://localhost:8080/",
          "height": 54
        },
        "outputId": "3ad39378-e1bb-45dc-f37a-0003bbb21926"
      },
      "source": [
        "batch_size = 32\n",
        "training_data = data_generator.flow_from_directory(directory = train_dir,\n",
        "                                                   target_size = (64, 64),\n",
        "                                                   batch_size = batch_size,\n",
        "                                                   class_mode = 'binary')\n",
        "testing_data = data_generator.flow_from_directory(directory = test_dir,\n",
        "                                                  target_size = (64, 64),\n",
        "                                                  batch_size = batch_size,\n",
        "                                                  class_mode = 'binary')"
      ],
      "execution_count": 41,
      "outputs": [
        {
          "output_type": "stream",
          "text": [
            "Found 239 images belonging to 2 classes.\n",
            "Found 173 images belonging to 2 classes.\n"
          ],
          "name": "stdout"
        }
      ]
    },
    {
      "cell_type": "code",
      "metadata": {
        "id": "TnTvaiHECvGS",
        "colab_type": "code",
        "colab": {}
      },
      "source": [
        "# preparing the layers in the Convolutional Deep Neural Network\n",
        "model = Sequential()\n",
        "\n",
        "#Convolutional Layer 1 w/ Pooling\n",
        "model.add(Conv2D(filters = 32, kernel_size = (3, 3), activation = 'relu', input_shape = training_data.image_shape))\n",
        "model.add(MaxPooling2D(pool_size = (2, 2)))\n",
        "model.add(Dropout(rate = 0.3))\n",
        "\n",
        "#Convolutional Layer 2 w/ Pooling\n",
        "model.add(Conv2D(filters = 64, kernel_size = (3, 3), activation = 'relu'))\n",
        "model.add(MaxPooling2D(pool_size = (2, 2)))\n",
        "model.add(Dropout(rate = 0.2))\n",
        "\n",
        "#Convolutional Layer 3 w/ Pooling\n",
        "model.add(Conv2D(filters = 126, kernel_size = (3, 3), activation = 'relu'))\n",
        "model.add(MaxPooling2D(pool_size = (2, 2)))\n",
        "model.add(Dropout(rate = 0.15))\n",
        "\n",
        "#Fully Connected Layer w/ Dropout\n",
        "model.add(Flatten())\n",
        "model.add(Dense(units = 32, activation = 'relu'))\n",
        "model.add(Dropout(rate = 0.15))\n",
        "model.add(Dense(units = 64, activation = 'relu'))\n",
        "model.add(Dropout(rate = 0.1))\n",
        "\n",
        "#Output Layer\n",
        "model.add(Dense(units = len(set(training_data.classes)), activation = 'softmax'))\n",
        "\n",
        "model.compile(optimizer = 'adam', loss = 'sparse_categorical_crossentropy', metrics = ['accuracy'])"
      ],
      "execution_count": 42,
      "outputs": []
    },
    {
      "cell_type": "code",
      "metadata": {
        "id": "zoqW4_ZpCvGa",
        "colab_type": "code",
        "colab": {
          "base_uri": "https://localhost:8080/",
          "height": 723
        },
        "outputId": "7d8ea2d2-3837-4e86-85c9-08d75023b49d"
      },
      "source": [
        "model.summary()"
      ],
      "execution_count": 43,
      "outputs": [
        {
          "output_type": "stream",
          "text": [
            "Model: \"sequential_4\"\n",
            "_________________________________________________________________\n",
            "Layer (type)                 Output Shape              Param #   \n",
            "=================================================================\n",
            "conv2d_12 (Conv2D)           (None, 62, 62, 32)        896       \n",
            "_________________________________________________________________\n",
            "max_pooling2d_12 (MaxPooling (None, 31, 31, 32)        0         \n",
            "_________________________________________________________________\n",
            "dropout_20 (Dropout)         (None, 31, 31, 32)        0         \n",
            "_________________________________________________________________\n",
            "conv2d_13 (Conv2D)           (None, 29, 29, 64)        18496     \n",
            "_________________________________________________________________\n",
            "max_pooling2d_13 (MaxPooling (None, 14, 14, 64)        0         \n",
            "_________________________________________________________________\n",
            "dropout_21 (Dropout)         (None, 14, 14, 64)        0         \n",
            "_________________________________________________________________\n",
            "conv2d_14 (Conv2D)           (None, 12, 12, 126)       72702     \n",
            "_________________________________________________________________\n",
            "max_pooling2d_14 (MaxPooling (None, 6, 6, 126)         0         \n",
            "_________________________________________________________________\n",
            "dropout_22 (Dropout)         (None, 6, 6, 126)         0         \n",
            "_________________________________________________________________\n",
            "flatten_4 (Flatten)          (None, 4536)              0         \n",
            "_________________________________________________________________\n",
            "dense_12 (Dense)             (None, 32)                145184    \n",
            "_________________________________________________________________\n",
            "dropout_23 (Dropout)         (None, 32)                0         \n",
            "_________________________________________________________________\n",
            "dense_13 (Dense)             (None, 64)                2112      \n",
            "_________________________________________________________________\n",
            "dropout_24 (Dropout)         (None, 64)                0         \n",
            "_________________________________________________________________\n",
            "dense_14 (Dense)             (None, 2)                 130       \n",
            "=================================================================\n",
            "Total params: 239,520\n",
            "Trainable params: 239,520\n",
            "Non-trainable params: 0\n",
            "_________________________________________________________________\n"
          ],
          "name": "stdout"
        }
      ]
    },
    {
      "cell_type": "code",
      "metadata": {
        "id": "P46XoYDpCvGi",
        "colab_type": "code",
        "colab": {
          "base_uri": "https://localhost:8080/",
          "height": 945
        },
        "outputId": "c9678861-ba01-43fe-fa53-5bb5bd8832f5"
      },
      "source": [
        "fitted_model = model.fit_generator(training_data,\n",
        "                        steps_per_epoch = int(239/batch_size),\n",
        "                        epochs = 25,\n",
        "                        validation_data = testing_data,\n",
        "                        validation_steps = int(173/batch_size))"
      ],
      "execution_count": 45,
      "outputs": [
        {
          "output_type": "stream",
          "text": [
            "Epoch 1/25\n",
            "7/7 [==============================] - 31s 4s/step - loss: 0.6483 - accuracy: 0.6607 - val_loss: 0.6487 - val_accuracy: 0.6750\n",
            "Epoch 2/25\n",
            "7/7 [==============================] - 21s 3s/step - loss: 0.6191 - accuracy: 0.6908 - val_loss: 0.6313 - val_accuracy: 0.6812\n",
            "Epoch 3/25\n",
            "7/7 [==============================] - 22s 3s/step - loss: 0.6051 - accuracy: 0.6715 - val_loss: 0.6386 - val_accuracy: 0.6750\n",
            "Epoch 4/25\n",
            "7/7 [==============================] - 21s 3s/step - loss: 0.5804 - accuracy: 0.6908 - val_loss: 0.5896 - val_accuracy: 0.6687\n",
            "Epoch 5/25\n",
            "7/7 [==============================] - 21s 3s/step - loss: 0.5380 - accuracy: 0.6715 - val_loss: 0.5501 - val_accuracy: 0.7688\n",
            "Epoch 6/25\n",
            "7/7 [==============================] - 20s 3s/step - loss: 0.4570 - accuracy: 0.7778 - val_loss: 0.5138 - val_accuracy: 0.7812\n",
            "Epoch 7/25\n",
            "7/7 [==============================] - 21s 3s/step - loss: 0.4254 - accuracy: 0.7778 - val_loss: 0.4714 - val_accuracy: 0.7437\n",
            "Epoch 8/25\n",
            "7/7 [==============================] - 21s 3s/step - loss: 0.3854 - accuracy: 0.8068 - val_loss: 0.5164 - val_accuracy: 0.7188\n",
            "Epoch 9/25\n",
            "7/7 [==============================] - 21s 3s/step - loss: 0.3988 - accuracy: 0.7857 - val_loss: 0.5411 - val_accuracy: 0.6750\n",
            "Epoch 10/25\n",
            "7/7 [==============================] - 21s 3s/step - loss: 0.4167 - accuracy: 0.8080 - val_loss: 0.4847 - val_accuracy: 0.7500\n",
            "Epoch 11/25\n",
            "7/7 [==============================] - 21s 3s/step - loss: 0.3752 - accuracy: 0.8164 - val_loss: 0.4544 - val_accuracy: 0.7937\n",
            "Epoch 12/25\n",
            "7/7 [==============================] - 22s 3s/step - loss: 0.3798 - accuracy: 0.8261 - val_loss: 0.4602 - val_accuracy: 0.7625\n",
            "Epoch 13/25\n",
            "7/7 [==============================] - 22s 3s/step - loss: 0.3597 - accuracy: 0.8304 - val_loss: 0.3770 - val_accuracy: 0.8500\n",
            "Epoch 14/25\n",
            "7/7 [==============================] - 21s 3s/step - loss: 0.2838 - accuracy: 0.8599 - val_loss: 0.4068 - val_accuracy: 0.8562\n",
            "Epoch 15/25\n",
            "7/7 [==============================] - 21s 3s/step - loss: 0.3007 - accuracy: 0.8744 - val_loss: 0.3844 - val_accuracy: 0.8625\n",
            "Epoch 16/25\n",
            "7/7 [==============================] - 21s 3s/step - loss: 0.2674 - accuracy: 0.8792 - val_loss: 0.3783 - val_accuracy: 0.8125\n",
            "Epoch 17/25\n",
            "7/7 [==============================] - 20s 3s/step - loss: 0.2425 - accuracy: 0.9082 - val_loss: 0.4948 - val_accuracy: 0.8250\n",
            "Epoch 18/25\n",
            "7/7 [==============================] - 21s 3s/step - loss: 0.3099 - accuracy: 0.8647 - val_loss: 0.3639 - val_accuracy: 0.8438\n",
            "Epoch 19/25\n",
            "7/7 [==============================] - 21s 3s/step - loss: 0.2540 - accuracy: 0.9082 - val_loss: 0.3501 - val_accuracy: 0.8750\n",
            "Epoch 20/25\n",
            "7/7 [==============================] - 21s 3s/step - loss: 0.2859 - accuracy: 0.8705 - val_loss: 0.3413 - val_accuracy: 0.8875\n",
            "Epoch 21/25\n",
            "7/7 [==============================] - 24s 3s/step - loss: 0.2118 - accuracy: 0.9275 - val_loss: 0.3284 - val_accuracy: 0.8750\n",
            "Epoch 22/25\n",
            "7/7 [==============================] - 21s 3s/step - loss: 0.1778 - accuracy: 0.9469 - val_loss: 0.3355 - val_accuracy: 0.8938\n",
            "Epoch 23/25\n",
            "7/7 [==============================] - 21s 3s/step - loss: 0.2181 - accuracy: 0.9082 - val_loss: 0.3370 - val_accuracy: 0.8750\n",
            "Epoch 24/25\n",
            "7/7 [==============================] - 21s 3s/step - loss: 0.1703 - accuracy: 0.9517 - val_loss: 0.3003 - val_accuracy: 0.9000\n",
            "Epoch 25/25\n",
            "7/7 [==============================] - 22s 3s/step - loss: 0.1652 - accuracy: 0.9469 - val_loss: 0.3568 - val_accuracy: 0.8687\n"
          ],
          "name": "stdout"
        }
      ]
    },
    {
      "cell_type": "code",
      "metadata": {
        "id": "tG3pgwNDCvGr",
        "colab_type": "code",
        "colab": {
          "base_uri": "https://localhost:8080/",
          "height": 284
        },
        "outputId": "25fb4c29-ae4a-47bb-c4ee-7cc085630d07"
      },
      "source": [
        "# plotting accuracy and validation accuracy\n",
        "accuracy = fitted_model.history['accuracy']\n",
        "plt.plot(range(len(accuracy)), accuracy, 'bo', label = 'accuracy')\n",
        "plt.legend()"
      ],
      "execution_count": 46,
      "outputs": [
        {
          "output_type": "execute_result",
          "data": {
            "text/plain": [
              "<matplotlib.legend.Legend at 0x7f5704d4c0f0>"
            ]
          },
          "metadata": {
            "tags": []
          },
          "execution_count": 46
        },
        {
          "output_type": "display_data",
          "data": {
            "image/png": "[encoded data removed]",
            "text/plain": [
              "<Figure size 432x288 with 1 Axes>"
            ]
          },
          "metadata": {
            "tags": [],
            "needs_background": "light"
          }
        }
      ]
    },
    {
      "cell_type": "code",
      "metadata": {
        "id": "2vppZMvKCvG1",
        "colab_type": "code",
        "colab": {}
      },
      "source": [
        "# testing the model\n",
        "def testing_image(image_directory):\n",
        "    test_image = image.load_img(image_directory, target_size = (64, 64))\n",
        "    test_image = image.img_to_array(test_image)\n",
        "    test_image = np.expand_dims(test_image, axis = 0)\n",
        "    result = model.predict(x = test_image)\n",
        "    print(result)\n",
        "    if result[0][0]  == 1:\n",
        "        prediction = 'Any'\n",
        "    else:\n",
        "        prediction = 'Tree'\n",
        "    return prediction"
      ],
      "execution_count": 47,
      "outputs": []
    },
    {
      "cell_type": "code",
      "metadata": {
        "id": "g96f2vOICvHB",
        "colab_type": "code",
        "colab": {
          "base_uri": "https://localhost:8080/",
          "height": 54
        },
        "outputId": "6f5b726b-3b93-49a6-a027-3c18983f46cd"
      },
      "source": [
        "print(testing_image(test_dir + '/any/donmy.JPG'))"
      ],
      "execution_count": 50,
      "outputs": [
        {
          "output_type": "stream",
          "text": [
            "[[0. 1.]]\n",
            "Tree\n"
          ],
          "name": "stdout"
        }
      ]
    },
    {
      "cell_type": "code",
      "metadata": {
        "id": "KOui7hKQVixU",
        "colab_type": "code",
        "colab": {
          "base_uri": "https://localhost:8080/",
          "height": 54
        },
        "outputId": "eaf59a78-63c5-447f-f10e-954ab69da399"
      },
      "source": [
        "print(testing_image(test_dir + '/any/glio.JPG'))"
      ],
      "execution_count": 54,
      "outputs": [
        {
          "output_type": "stream",
          "text": [
            "[[1. 0.]]\n",
            "Any\n"
          ],
          "name": "stdout"
        }
      ]
    },
    {
      "cell_type": "code",
      "metadata": {
        "id": "jP9Zn01YVxoF",
        "colab_type": "code",
        "colab": {
          "base_uri": "https://localhost:8080/",
          "height": 54
        },
        "outputId": "98b3ec69-8547-4e4e-a4b3-367ff5571f0b"
      },
      "source": [
        "print(testing_image(test_dir + '/any/IMG_4753 - Copy.JPG'))\n",
        "#123.JPG\n",
        "#IMG_4796.JPG\n",
        "#5567.JPG\n",
        "#IMG_4753 - Copy.JPG\n",
        "#jhkuyi.JPG"
      ],
      "execution_count": 58,
      "outputs": [
        {
          "output_type": "stream",
          "text": [
            "[[1. 0.]]\n",
            "Any\n"
          ],
          "name": "stdout"
        }
      ]
    }
  ]
}