{
  "nbformat": 4,
  "nbformat_minor": 0,
  "metadata": {
    "kernelspec": {
      "display_name": "Python 3",
      "language": "python",
      "name": "python3"
    },
    "language_info": {
      "codemirror_mode": {
        "name": "ipython",
        "version": 3
      },
      "file_extension": ".py",
      "mimetype": "text/x-python",
      "name": "python",
      "nbconvert_exporter": "python",
      "pygments_lexer": "ipython3",
      "version": "3.6.6"
    },
    "colab": {
      "name": "Tree_classification_using_cnn",
      "provenance": [],
      "collapsed_sections": [],
      "include_colab_link": true
    }
  },
  "cells": [
    {
      "cell_type": "markdown",
      "metadata": {
        "id": "view-in-github",
        "colab_type": "text"
      },
      "source": [
        "<a href=\"https://colab.research.google.com/github/BLOSSOM1994/Tree_maskRcnn/blob/master/Tree_classification_using_cnn.ipynb\" target=\"_parent\"><img src=\"https://colab.research.google.com/assets/colab-badge.svg\" alt=\"Open In Colab\"/></a>"
      ]
    },
    {
      "cell_type": "markdown",
      "metadata": {
        "id": "REZb5xeDCvE3"
      },
      "source": [
        "The Idea is to apply CNN to tree&Any Image Classification dataset."
      ]
    },
    {
      "cell_type": "code",
      "metadata": {
        "id": "02M8n8QSCvE7"
      },
      "source": [
        "# importing libraries\n",
        "import pandas as pd\n",
        "import numpy as np\n",
        "import matplotlib.pyplot as plt\n",
        "import tensorflow as tf\n",
        "import os\n",
        "from tensorflow.keras.preprocessing import image\n",
        "from zipfile import ZipFile "
      ],
      "execution_count": 1,
      "outputs": []
    },
    {
      "cell_type": "code",
      "metadata": {
        "id": "DDrmWMJdCvFO"
      },
      "source": [
        "# importing libraries for Deep Learning\n",
        "from tensorflow.keras.models import Sequential\n",
        "from tensorflow.keras.layers import Conv2D, MaxPooling2D, Flatten, Dense, Dropout, Activation\n",
        "from tensorflow.keras.preprocessing.image import ImageDataGenerator"
      ],
      "execution_count": 2,
      "outputs": []
    },
    {
      "cell_type": "code",
      "metadata": {
        "id": "WCmXa2bjEAjY",
        "outputId": "10d2d98b-c50d-453b-89c5-5407cd1c888f",
        "colab": {
          "base_uri": "https://localhost:8080/",
          "height": 35
        }
      },
      "source": [
        "from google.colab import drive\n",
        "drive.mount('/content/drive')"
      ],
      "execution_count": 3,
      "outputs": [
        {
          "output_type": "stream",
          "text": [
            "Mounted at /content/drive\n"
          ],
          "name": "stdout"
        }
      ]
    },
    {
      "cell_type": "code",
      "metadata": {
        "_cell_guid": "79c7e3d0-c299-4dcb-8224-4455121ee9b0",
        "_uuid": "d629ff2d2480ee46fbb7e2d37f6b5fab8052498a",
        "id": "chAn0DlOCvFj"
      },
      "source": [
        "#Split into train, validate and test data folders\n",
        "datadir='/content/drive/My Drive/Colab Notebooks'\n",
        "train_dir  = datadir+'/CNN_test/train'\n",
        "test_dir   = datadir+'/CNN_test/test'\n",
        "\n",
        "\n",
        "train_dir_tree = train_dir + '/tree'\n",
        "train_dir_any = train_dir + '/any'\n",
        "test_dir_tree = test_dir + '/tree'\n",
        "test_dir_any = test_dir + '/any'\n",
        "\n"
      ],
      "execution_count": 4,
      "outputs": []
    },
    {
      "cell_type": "code",
      "metadata": {
        "id": "fWLOvgmrCvFx",
        "outputId": "5444fdbd-7e87-4f01-c284-b0ecbe039381",
        "colab": {
          "base_uri": "https://localhost:8080/",
          "height": 88
        }
      },
      "source": [
        "print('number of tree training images - ',len(os.listdir(train_dir_tree)))\n",
        "print('number of any training images - ',len(os.listdir(train_dir_any)))\n",
        "print('number of tree testing images - ',len(os.listdir(test_dir_tree)))\n",
        "print('number of any testing images - ',len(os.listdir(test_dir_any)))"
      ],
      "execution_count": 5,
      "outputs": [
        {
          "output_type": "stream",
          "text": [
            "number of tree training images -  163\n",
            "number of any training images -  77\n",
            "number of tree testing images -  117\n",
            "number of any testing images -  56\n"
          ],
          "name": "stdout"
        }
      ]
    },
    {
      "cell_type": "markdown",
      "metadata": {
        "id": "cCRkjWvYCvF7"
      },
      "source": [
        "Now we need to convert the RGB images into array of numbers. The requirement can be satisfied by ImageDataGenerator() https://keras.io/preprocessing/image/"
      ]
    },
    {
      "cell_type": "code",
      "metadata": {
        "id": "Ux0EgaaCCvF9"
      },
      "source": [
        "data_generator = ImageDataGenerator(rescale = 1.0/255.0, zoom_range = 0.2)"
      ],
      "execution_count": 6,
      "outputs": []
    },
    {
      "cell_type": "code",
      "metadata": {
        "id": "o2Sd6bi_CvGI",
        "outputId": "8af39b04-5e46-41b5-b693-ea7c126527c4",
        "colab": {
          "base_uri": "https://localhost:8080/",
          "height": 53
        }
      },
      "source": [
        "batch_size = 32\n",
        "training_data = data_generator.flow_from_directory(directory = train_dir,\n",
        "                                                   target_size = (64, 64),\n",
        "                                                   batch_size = batch_size,\n",
        "                                                   class_mode = 'binary')\n",
        "testing_data = data_generator.flow_from_directory(directory = test_dir,\n",
        "                                                  target_size = (64, 64),\n",
        "                                                  batch_size = batch_size,\n",
        "                                                  class_mode = 'binary')"
      ],
      "execution_count": 7,
      "outputs": [
        {
          "output_type": "stream",
          "text": [
            "Found 240 images belonging to 2 classes.\n",
            "Found 173 images belonging to 2 classes.\n"
          ],
          "name": "stdout"
        }
      ]
    },
    {
      "cell_type": "code",
      "metadata": {
        "id": "TnTvaiHECvGS"
      },
      "source": [
        "# preparing the layers in the Convolutional Deep Neural Network\n",
        "model = Sequential()\n",
        "\n",
        "#Convolutional Layer 1 w/ Pooling\n",
        "model.add(Conv2D(filters = 32, kernel_size = (3, 3), activation = 'relu', input_shape = training_data.image_shape))\n",
        "model.add(MaxPooling2D(pool_size = (2, 2)))\n",
        "model.add(Dropout(rate = 0.3))\n",
        "\n",
        "#Convolutional Layer 2 w/ Pooling\n",
        "model.add(Conv2D(filters = 64, kernel_size = (3, 3), activation = 'relu'))\n",
        "model.add(MaxPooling2D(pool_size = (2, 2)))\n",
        "model.add(Dropout(rate = 0.2))\n",
        "\n",
        "#Convolutional Layer 3 w/ Pooling\n",
        "model.add(Conv2D(filters = 126, kernel_size = (3, 3), activation = 'relu'))\n",
        "model.add(MaxPooling2D(pool_size = (2, 2)))\n",
        "model.add(Dropout(rate = 0.15))\n",
        "\n",
        "#Fully Connected Layer w/ Dropout\n",
        "model.add(Flatten())\n",
        "model.add(Dense(units = 32, activation = 'relu'))\n",
        "model.add(Dropout(rate = 0.15))\n",
        "model.add(Dense(units = 64, activation = 'relu'))\n",
        "model.add(Dropout(rate = 0.1))\n",
        "\n",
        "#Output Layer\n",
        "model.add(Dense(units = len(set(training_data.classes)), activation = 'softmax'))\n",
        "\n",
        "model.compile(optimizer = 'adam', loss = 'sparse_categorical_crossentropy', metrics = ['accuracy'])"
      ],
      "execution_count": 8,
      "outputs": []
    },
    {
      "cell_type": "code",
      "metadata": {
        "id": "zoqW4_ZpCvGa",
        "outputId": "4464d391-3534-4639-b926-7bd3c68ce171",
        "colab": {
          "base_uri": "https://localhost:8080/",
          "height": 696
        }
      },
      "source": [
        "model.summary()"
      ],
      "execution_count": 9,
      "outputs": [
        {
          "output_type": "stream",
          "text": [
            "Model: \"sequential\"\n",
            "_________________________________________________________________\n",
            "Layer (type)                 Output Shape              Param #   \n",
            "=================================================================\n",
            "conv2d (Conv2D)              (None, 62, 62, 32)        896       \n",
            "_________________________________________________________________\n",
            "max_pooling2d (MaxPooling2D) (None, 31, 31, 32)        0         \n",
            "_________________________________________________________________\n",
            "dropout (Dropout)            (None, 31, 31, 32)        0         \n",
            "_________________________________________________________________\n",
            "conv2d_1 (Conv2D)            (None, 29, 29, 64)        18496     \n",
            "_________________________________________________________________\n",
            "max_pooling2d_1 (MaxPooling2 (None, 14, 14, 64)        0         \n",
            "_________________________________________________________________\n",
            "dropout_1 (Dropout)          (None, 14, 14, 64)        0         \n",
            "_________________________________________________________________\n",
            "conv2d_2 (Conv2D)            (None, 12, 12, 126)       72702     \n",
            "_________________________________________________________________\n",
            "max_pooling2d_2 (MaxPooling2 (None, 6, 6, 126)         0         \n",
            "_________________________________________________________________\n",
            "dropout_2 (Dropout)          (None, 6, 6, 126)         0         \n",
            "_________________________________________________________________\n",
            "flatten (Flatten)            (None, 4536)              0         \n",
            "_________________________________________________________________\n",
            "dense (Dense)                (None, 32)                145184    \n",
            "_________________________________________________________________\n",
            "dropout_3 (Dropout)          (None, 32)                0         \n",
            "_________________________________________________________________\n",
            "dense_1 (Dense)              (None, 64)                2112      \n",
            "_________________________________________________________________\n",
            "dropout_4 (Dropout)          (None, 64)                0         \n",
            "_________________________________________________________________\n",
            "dense_2 (Dense)              (None, 2)                 130       \n",
            "=================================================================\n",
            "Total params: 239,520\n",
            "Trainable params: 239,520\n",
            "Non-trainable params: 0\n",
            "_________________________________________________________________\n"
          ],
          "name": "stdout"
        }
      ]
    },
    {
      "cell_type": "code",
      "metadata": {
        "id": "P46XoYDpCvGi",
        "outputId": "04b0a890-362b-4619-cf31-0cff54dd0c0c",
        "colab": {
          "base_uri": "https://localhost:8080/",
          "height": 964
        }
      },
      "source": [
        "fitted_model = model.fit_generator(training_data,\n",
        "                        steps_per_epoch = int(239/batch_size),\n",
        "                        epochs = 25,\n",
        "                        validation_data = testing_data,\n",
        "                        validation_steps = int(173/batch_size))"
      ],
      "execution_count": 10,
      "outputs": [
        {
          "output_type": "stream",
          "text": [
            "WARNING:tensorflow:From <ipython-input-10-435c4f5122a7>:5: Model.fit_generator (from tensorflow.python.keras.engine.training) is deprecated and will be removed in a future version.\n",
            "Instructions for updating:\n",
            "Please use Model.fit, which supports generators.\n",
            "Epoch 1/25\n",
            "7/7 [==============================] - 265s 38s/step - loss: 0.6704 - accuracy: 0.6518 - val_loss: 0.6557 - val_accuracy: 0.6750\n",
            "Epoch 2/25\n",
            "7/7 [==============================] - 21s 3s/step - loss: 0.6520 - accuracy: 0.6741 - val_loss: 0.6624 - val_accuracy: 0.6750\n",
            "Epoch 3/25\n",
            "7/7 [==============================] - 21s 3s/step - loss: 0.6178 - accuracy: 0.7115 - val_loss: 0.6209 - val_accuracy: 0.6875\n",
            "Epoch 4/25\n",
            "7/7 [==============================] - 24s 3s/step - loss: 0.6159 - accuracy: 0.6652 - val_loss: 0.6419 - val_accuracy: 0.6750\n",
            "Epoch 5/25\n",
            "7/7 [==============================] - 21s 3s/step - loss: 0.5836 - accuracy: 0.6696 - val_loss: 0.5502 - val_accuracy: 0.6812\n",
            "Epoch 6/25\n",
            "7/7 [==============================] - 21s 3s/step - loss: 0.4846 - accuracy: 0.6875 - val_loss: 0.5001 - val_accuracy: 0.6750\n",
            "Epoch 7/25\n",
            "7/7 [==============================] - 21s 3s/step - loss: 0.4162 - accuracy: 0.7452 - val_loss: 0.4632 - val_accuracy: 0.7688\n",
            "Epoch 8/25\n",
            "7/7 [==============================] - 21s 3s/step - loss: 0.4151 - accuracy: 0.7356 - val_loss: 0.4596 - val_accuracy: 0.7937\n",
            "Epoch 9/25\n",
            "7/7 [==============================] - 21s 3s/step - loss: 0.3904 - accuracy: 0.7946 - val_loss: 0.5601 - val_accuracy: 0.6500\n",
            "Epoch 10/25\n",
            "7/7 [==============================] - 21s 3s/step - loss: 0.4027 - accuracy: 0.7692 - val_loss: 0.5500 - val_accuracy: 0.8062\n",
            "Epoch 11/25\n",
            "7/7 [==============================] - 20s 3s/step - loss: 0.3389 - accuracy: 0.8702 - val_loss: 0.4809 - val_accuracy: 0.7937\n",
            "Epoch 12/25\n",
            "7/7 [==============================] - 22s 3s/step - loss: 0.3200 - accuracy: 0.8482 - val_loss: 0.4952 - val_accuracy: 0.8562\n",
            "Epoch 13/25\n",
            "7/7 [==============================] - 22s 3s/step - loss: 0.3283 - accuracy: 0.8798 - val_loss: 0.4441 - val_accuracy: 0.8062\n",
            "Epoch 14/25\n",
            "7/7 [==============================] - 21s 3s/step - loss: 0.2920 - accuracy: 0.8750 - val_loss: 0.4393 - val_accuracy: 0.7937\n",
            "Epoch 15/25\n",
            "7/7 [==============================] - 20s 3s/step - loss: 0.3015 - accuracy: 0.8702 - val_loss: 0.4420 - val_accuracy: 0.8188\n",
            "Epoch 16/25\n",
            "7/7 [==============================] - 21s 3s/step - loss: 0.2791 - accuracy: 0.9038 - val_loss: 0.4008 - val_accuracy: 0.8062\n",
            "Epoch 17/25\n",
            "7/7 [==============================] - 21s 3s/step - loss: 0.2764 - accuracy: 0.9038 - val_loss: 0.3962 - val_accuracy: 0.8062\n",
            "Epoch 18/25\n",
            "7/7 [==============================] - 21s 3s/step - loss: 0.2680 - accuracy: 0.8750 - val_loss: 0.3948 - val_accuracy: 0.8562\n",
            "Epoch 19/25\n",
            "7/7 [==============================] - 21s 3s/step - loss: 0.2317 - accuracy: 0.9087 - val_loss: 0.3311 - val_accuracy: 0.8562\n",
            "Epoch 20/25\n",
            "7/7 [==============================] - 21s 3s/step - loss: 0.2215 - accuracy: 0.9183 - val_loss: 0.3767 - val_accuracy: 0.8438\n",
            "Epoch 21/25\n",
            "7/7 [==============================] - 20s 3s/step - loss: 0.2230 - accuracy: 0.9087 - val_loss: 0.3199 - val_accuracy: 0.8687\n",
            "Epoch 22/25\n",
            "7/7 [==============================] - 21s 3s/step - loss: 0.2268 - accuracy: 0.8894 - val_loss: 0.5813 - val_accuracy: 0.7563\n",
            "Epoch 23/25\n",
            "7/7 [==============================] - 21s 3s/step - loss: 0.3305 - accuracy: 0.8606 - val_loss: 0.3895 - val_accuracy: 0.7875\n",
            "Epoch 24/25\n",
            "7/7 [==============================] - 21s 3s/step - loss: 0.2515 - accuracy: 0.9038 - val_loss: 0.3607 - val_accuracy: 0.8750\n",
            "Epoch 25/25\n",
            "7/7 [==============================] - 20s 3s/step - loss: 0.2450 - accuracy: 0.9135 - val_loss: 0.3192 - val_accuracy: 0.8938\n"
          ],
          "name": "stdout"
        }
      ]
    },
    {
      "cell_type": "code",
      "metadata": {
        "id": "tG3pgwNDCvGr",
        "outputId": "c289d6ba-6a03-4dcc-8739-8acc4dcf93d0",
        "colab": {
          "base_uri": "https://localhost:8080/",
          "height": 283
        }
      },
      "source": [
        "# plotting accuracy and validation accuracy\n",
        "accuracy = fitted_model.history['accuracy']\n",
        "plt.plot(range(len(accuracy)), accuracy, 'bo', label = 'accuracy')\n",
        "plt.legend()"
      ],
      "execution_count": 11,
      "outputs": [
        {
          "output_type": "execute_result",
          "data": {
            "text/plain": [
              "<matplotlib.legend.Legend at 0x7f3b0e442ba8>"
            ]
          },
          "metadata": {
            "tags": []
          },
          "execution_count": 11
        },
        {
          "output_type": "display_data",
          "data": {
            "image/png": "[encoded data removed]",
            "text/plain": [
              "<Figure size 432x288 with 1 Axes>"
            ]
          },
          "metadata": {
            "tags": [],
            "needs_background": "light"
          }
        }
      ]
    },
    {
      "cell_type": "code",
      "metadata": {
        "id": "3avDrlY7iYRm"
      },
      "source": [
        "# parse file\n",
        "hist_dict = fitted_model.history"
      ],
      "execution_count": 18,
      "outputs": []
    },
    {
      "cell_type": "code",
      "metadata": {
        "id": "JHWMrp0biCLO",
        "outputId": "0f81f821-ff48-4e8a-c647-d0f7ed948642",
        "colab": {
          "base_uri": "https://localhost:8080/",
          "height": 88
        }
      },
      "source": [
        "#hist_dict=eval(hist_dict)\n",
        "for metric in hist_dict:\n",
        "    print(metric)"
      ],
      "execution_count": 20,
      "outputs": [
        {
          "output_type": "stream",
          "text": [
            "loss\n",
            "accuracy\n",
            "val_loss\n",
            "val_accuracy\n"
          ],
          "name": "stdout"
        }
      ]
    },
    {
      "cell_type": "code",
      "metadata": {
        "id": "cYN24qeXjdc9"
      },
      "source": [
        "def plot_training(metric):\n",
        "    fig=plt.figure()\n",
        "    plt.plot(hist_dict[metric], c='blue')\n",
        "    plt.plot(hist_dict['val_'+metric], c='red')\n",
        "    plt.title('model '+metric)\n",
        "    plt.ylabel(metric)\n",
        "    plt.xlabel('epoch')\n",
        "    plt.legend(['train', 'test'])\n",
        "    plt.show()"
      ],
      "execution_count": 28,
      "outputs": []
    },
    {
      "cell_type": "code",
      "metadata": {
        "id": "0o69n2kki1mp",
        "outputId": "ea894b46-86c7-4f45-93b4-bc6c8eefc328",
        "colab": {
          "base_uri": "https://localhost:8080/",
          "height": 573
        }
      },
      "source": [
        "plot_training('loss')\n",
        "#plot_training('val_loss')\n",
        "plot_training('accuracy')"
      ],
      "execution_count": 29,
      "outputs": [
        {
          "output_type": "display_data",
          "data": {
            "image/png": "[encoded data removed]",
            "text/plain": [
              "<Figure size 432x288 with 1 Axes>"
            ]
          },
          "metadata": {
            "tags": [],
            "needs_background": "light"
          }
        },
        {
          "output_type": "display_data",
          "data": {
            "image/png": "[encoded data removed]",
            "text/plain": [
              "<Figure size 432x288 with 1 Axes>"
            ]
          },
          "metadata": {
            "tags": [],
            "needs_background": "light"
          }
        }
      ]
    },
    {
      "cell_type": "code",
      "metadata": {
        "id": "2vppZMvKCvG1"
      },
      "source": [
        "# testing the model\n",
        "def testing_image(image_directory):\n",
        "    test_image = image.load_img(image_directory, target_size = (64, 64))\n",
        "    test_image = image.img_to_array(test_image)\n",
        "    test_image = np.expand_dims(test_image, axis = 0)\n",
        "    result = model.predict(x = test_image)\n",
        "    print(result)\n",
        "    if result[0][0]  == 1:\n",
        "        prediction = 'Any'\n",
        "    else:\n",
        "        prediction = 'Tree'\n",
        "    return prediction"
      ],
      "execution_count": 12,
      "outputs": []
    },
    {
      "cell_type": "code",
      "metadata": {
        "id": "g96f2vOICvHB",
        "outputId": "d4d6e602-2b4e-49fd-e4fa-373cd551810a",
        "colab": {
          "base_uri": "https://localhost:8080/",
          "height": 53
        }
      },
      "source": [
        "print(testing_image(test_dir + '/any/donmy.JPG'))"
      ],
      "execution_count": 13,
      "outputs": [
        {
          "output_type": "stream",
          "text": [
            "[[0. 1.]]\n",
            "Tree\n"
          ],
          "name": "stdout"
        }
      ]
    },
    {
      "cell_type": "code",
      "metadata": {
        "id": "KOui7hKQVixU",
        "outputId": "28d77e64-a698-430c-f5ec-36fb17deb6f3",
        "colab": {
          "base_uri": "https://localhost:8080/",
          "height": 53
        }
      },
      "source": [
        "print(testing_image(test_dir + '/any/glio.JPG'))"
      ],
      "execution_count": 14,
      "outputs": [
        {
          "output_type": "stream",
          "text": [
            "[[1. 0.]]\n",
            "Any\n"
          ],
          "name": "stdout"
        }
      ]
    },
    {
      "cell_type": "code",
      "metadata": {
        "id": "jP9Zn01YVxoF",
        "outputId": "b8f64638-b314-4dad-b3b6-ea5be2f7ba8c",
        "colab": {
          "base_uri": "https://localhost:8080/",
          "height": 53
        }
      },
      "source": [
        "print(testing_image(test_dir + '/any/IMG_4753 - Copy.JPG'))\n",
        "#123.JPG\n",
        "#IMG_4796.JPG\n",
        "#5567.JPG\n",
        "#IMG_4753 - Copy.JPG\n",
        "#jhkuyi.JPG"
      ],
      "execution_count": 15,
      "outputs": [
        {
          "output_type": "stream",
          "text": [
            "[[1. 0.]]\n",
            "Any\n"
          ],
          "name": "stdout"
        }
      ]
    }
  ]
}